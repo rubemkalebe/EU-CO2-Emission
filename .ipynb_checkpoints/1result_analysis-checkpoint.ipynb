{
 "cells": [
  {
   "cell_type": "markdown",
   "metadata": {},
   "source": [
    "# Monitoring of CO2 emissions from passenger cars"
   ]
  },
  {
   "cell_type": "markdown",
   "metadata": {},
   "source": [
    "The Regulation (EC) No *443/2009* requires Member States from **European Union** (EU) to record information for each new passenger car registered in its territory. Every year, each Member State shall submit to the Commission all the information related to their new registrations. In particular, the following details are required for each new passenger car registered: manufacturer name, type approval number, type, variant, version, make and commercial name, specific emissions of $CO_2$, mass of the vehicle, wheel base, track width, engine capacity, fuel type and fuel mode. Additional information, such as engine power, were also submitted."
   ]
  },
  {
   "cell_type": "markdown",
   "metadata": {},
   "source": [
    "Since 2010 the European Environment Agency (EEA) is collecting data from passenger cars registered in all EU Member States. Those data are available in http://www.eea.europa.eu/data-and-maps/data/co2-cars-emission-11."
   ]
  },
  {
   "cell_type": "markdown",
   "metadata": {},
   "source": [
    "In this work we explore the database of 2015 in order to analyze the data available, find issues in $CO_2$ emissions and propose solutions to that problems."
   ]
  },
  {
   "cell_type": "markdown",
   "metadata": {},
   "source": [
    "## Data Analysis"
   ]
  },
  {
   "cell_type": "markdown",
   "metadata": {},
   "source": [
    "In this analysis we deal with the european countries, fuel types in use and $CO_2$ emissions. Those data are based on the number of new vehicle registrations in 2015. We show data about EU, the three most polluting the three less polluting countries, and Netherlands vs. Poland."
   ]
  },
  {
   "cell_type": "code",
   "execution_count": 1,
   "metadata": {
    "collapsed": false
   },
   "outputs": [
    {
     "data": {
      "text/html": [
       "\n",
       "    <div class=\"bk-root\">\n",
       "        <a href=\"http://bokeh.pydata.org\" target=\"_blank\" class=\"bk-logo bk-logo-small bk-logo-notebook\"></a>\n",
       "        <span id=\"02ca86de-14c5-4f0a-a821-8e26b1f52d26\">Loading BokehJS ...</span>\n",
       "    </div>"
      ]
     },
     "metadata": {},
     "output_type": "display_data"
    },
    {
     "data": {
      "application/javascript": [
       "\n",
       "(function(global) {\n",
       "  function now() {\n",
       "    return new Date();\n",
       "  }\n",
       "\n",
       "  var force = true;\n",
       "\n",
       "  if (typeof (window._bokeh_onload_callbacks) === \"undefined\" || force === true) {\n",
       "    window._bokeh_onload_callbacks = [];\n",
       "    window._bokeh_is_loading = undefined;\n",
       "  }\n",
       "\n",
       "\n",
       "  \n",
       "  if (typeof (window._bokeh_timeout) === \"undefined\" || force === true) {\n",
       "    window._bokeh_timeout = Date.now() + 5000;\n",
       "    window._bokeh_failed_load = false;\n",
       "  }\n",
       "\n",
       "  var NB_LOAD_WARNING = {'data': {'text/html':\n",
       "     \"<div style='background-color: #fdd'>\\n\"+\n",
       "     \"<p>\\n\"+\n",
       "     \"BokehJS does not appear to have successfully loaded. If loading BokehJS from CDN, this \\n\"+\n",
       "     \"may be due to a slow or bad network connection. Possible fixes:\\n\"+\n",
       "     \"</p>\\n\"+\n",
       "     \"<ul>\\n\"+\n",
       "     \"<li>re-rerun `output_notebook()` to attempt to load from CDN again, or</li>\\n\"+\n",
       "     \"<li>use INLINE resources instead, as so:</li>\\n\"+\n",
       "     \"</ul>\\n\"+\n",
       "     \"<code>\\n\"+\n",
       "     \"from bokeh.resources import INLINE\\n\"+\n",
       "     \"output_notebook(resources=INLINE)\\n\"+\n",
       "     \"</code>\\n\"+\n",
       "     \"</div>\"}};\n",
       "\n",
       "  function display_loaded() {\n",
       "    if (window.Bokeh !== undefined) {\n",
       "      document.getElementById(\"02ca86de-14c5-4f0a-a821-8e26b1f52d26\").textContent = \"BokehJS successfully loaded.\";\n",
       "    } else if (Date.now() < window._bokeh_timeout) {\n",
       "      setTimeout(display_loaded, 100)\n",
       "    }\n",
       "  }\n",
       "\n",
       "  function run_callbacks() {\n",
       "    window._bokeh_onload_callbacks.forEach(function(callback) { callback() });\n",
       "    delete window._bokeh_onload_callbacks\n",
       "    console.info(\"Bokeh: all callbacks have finished\");\n",
       "  }\n",
       "\n",
       "  function load_libs(js_urls, callback) {\n",
       "    window._bokeh_onload_callbacks.push(callback);\n",
       "    if (window._bokeh_is_loading > 0) {\n",
       "      console.log(\"Bokeh: BokehJS is being loaded, scheduling callback at\", now());\n",
       "      return null;\n",
       "    }\n",
       "    if (js_urls == null || js_urls.length === 0) {\n",
       "      run_callbacks();\n",
       "      return null;\n",
       "    }\n",
       "    console.log(\"Bokeh: BokehJS not loaded, scheduling load and callback at\", now());\n",
       "    window._bokeh_is_loading = js_urls.length;\n",
       "    for (var i = 0; i < js_urls.length; i++) {\n",
       "      var url = js_urls[i];\n",
       "      var s = document.createElement('script');\n",
       "      s.src = url;\n",
       "      s.async = false;\n",
       "      s.onreadystatechange = s.onload = function() {\n",
       "        window._bokeh_is_loading--;\n",
       "        if (window._bokeh_is_loading === 0) {\n",
       "          console.log(\"Bokeh: all BokehJS libraries loaded\");\n",
       "          run_callbacks()\n",
       "        }\n",
       "      };\n",
       "      s.onerror = function() {\n",
       "        console.warn(\"failed to load library \" + url);\n",
       "      };\n",
       "      console.log(\"Bokeh: injecting script tag for BokehJS library: \", url);\n",
       "      document.getElementsByTagName(\"head\")[0].appendChild(s);\n",
       "    }\n",
       "  };var element = document.getElementById(\"02ca86de-14c5-4f0a-a821-8e26b1f52d26\");\n",
       "  if (element == null) {\n",
       "    console.log(\"Bokeh: ERROR: autoload.js configured with elementid '02ca86de-14c5-4f0a-a821-8e26b1f52d26' but no matching script tag was found. \")\n",
       "    return false;\n",
       "  }\n",
       "\n",
       "  var js_urls = [\"https://cdn.pydata.org/bokeh/release/bokeh-0.12.4.min.js\", \"https://cdn.pydata.org/bokeh/release/bokeh-widgets-0.12.4.min.js\"];\n",
       "\n",
       "  var inline_js = [\n",
       "    function(Bokeh) {\n",
       "      Bokeh.set_log_level(\"info\");\n",
       "    },\n",
       "    \n",
       "    function(Bokeh) {\n",
       "      \n",
       "      document.getElementById(\"02ca86de-14c5-4f0a-a821-8e26b1f52d26\").textContent = \"BokehJS is loading...\";\n",
       "    },\n",
       "    function(Bokeh) {\n",
       "      console.log(\"Bokeh: injecting CSS: https://cdn.pydata.org/bokeh/release/bokeh-0.12.4.min.css\");\n",
       "      Bokeh.embed.inject_css(\"https://cdn.pydata.org/bokeh/release/bokeh-0.12.4.min.css\");\n",
       "      console.log(\"Bokeh: injecting CSS: https://cdn.pydata.org/bokeh/release/bokeh-widgets-0.12.4.min.css\");\n",
       "      Bokeh.embed.inject_css(\"https://cdn.pydata.org/bokeh/release/bokeh-widgets-0.12.4.min.css\");\n",
       "    }\n",
       "  ];\n",
       "\n",
       "  function run_inline_js() {\n",
       "    \n",
       "    if ((window.Bokeh !== undefined) || (force === true)) {\n",
       "      for (var i = 0; i < inline_js.length; i++) {\n",
       "        inline_js[i](window.Bokeh);\n",
       "      }if (force === true) {\n",
       "        display_loaded();\n",
       "      }} else if (Date.now() < window._bokeh_timeout) {\n",
       "      setTimeout(run_inline_js, 100);\n",
       "    } else if (!window._bokeh_failed_load) {\n",
       "      console.log(\"Bokeh: BokehJS failed to load within specified timeout.\");\n",
       "      window._bokeh_failed_load = true;\n",
       "    } else if (force !== true) {\n",
       "      var cell = $(document.getElementById(\"02ca86de-14c5-4f0a-a821-8e26b1f52d26\")).parents('.cell').data().cell;\n",
       "      cell.output_area.append_execute_result(NB_LOAD_WARNING)\n",
       "    }\n",
       "\n",
       "  }\n",
       "\n",
       "  if (window._bokeh_is_loading === 0) {\n",
       "    console.log(\"Bokeh: BokehJS loaded, going straight to plotting\");\n",
       "    run_inline_js();\n",
       "  } else {\n",
       "    load_libs(js_urls, function() {\n",
       "      console.log(\"Bokeh: BokehJS plotting callback run at\", now());\n",
       "      run_inline_js();\n",
       "    });\n",
       "  }\n",
       "}(this));"
      ]
     },
     "metadata": {},
     "output_type": "display_data"
    }
   ],
   "source": [
    "from bokeh.models.widgets import Panel, Tabs\n",
    "from bokeh.io import output_notebook, show\n",
    "from bokeh.plotting import figure\n",
    "\n",
    "from src.data.extract_data import ExtractData\n",
    "\n",
    "ed = ExtractData()\n",
    "data = ed.extract()\n",
    "\n",
    "output_notebook()"
   ]
  },
  {
   "cell_type": "code",
   "execution_count": 2,
   "metadata": {
    "collapsed": false
   },
   "outputs": [
    {
     "ename": "ModuleNotFoundError",
     "evalue": "No module named 'fuel_type'",
     "output_type": "error",
     "traceback": [
      "\u001b[0;31m---------------------------------------------------------------------------\u001b[0m",
      "\u001b[0;31mModuleNotFoundError\u001b[0m                       Traceback (most recent call last)",
      "\u001b[0;32m<ipython-input-2-f6ac32b38a2f>\u001b[0m in \u001b[0;36m<module>\u001b[0;34m()\u001b[0m\n\u001b[0;32m----> 1\u001b[0;31m \u001b[0;32mfrom\u001b[0m \u001b[0mfuel_type\u001b[0m \u001b[0;32mimport\u001b[0m \u001b[0mFuelTypePlot\u001b[0m\u001b[0;34m\u001b[0m\u001b[0m\n\u001b[0m\u001b[1;32m      2\u001b[0m \u001b[0;32mfrom\u001b[0m \u001b[0memission_by_country\u001b[0m \u001b[0;32mimport\u001b[0m \u001b[0mEmissionByCountryPlot\u001b[0m\u001b[0;34m\u001b[0m\u001b[0m\n\u001b[1;32m      3\u001b[0m \u001b[0;32mfrom\u001b[0m \u001b[0memission_by_fuel\u001b[0m \u001b[0;32mimport\u001b[0m \u001b[0mEmissionByFuelPlot\u001b[0m\u001b[0;34m\u001b[0m\u001b[0m\n\u001b[1;32m      4\u001b[0m \u001b[0;32mfrom\u001b[0m \u001b[0mregistrations_by_country\u001b[0m \u001b[0;32mimport\u001b[0m \u001b[0mRegistrationsByCountryPlot\u001b[0m\u001b[0;34m\u001b[0m\u001b[0m\n\u001b[1;32m      5\u001b[0m \u001b[0;34m\u001b[0m\u001b[0m\n",
      "\u001b[0;31mModuleNotFoundError\u001b[0m: No module named 'fuel_type'"
     ]
    }
   ],
   "source": [
    "from src.fuel_type import FuelTypePlot\n",
    "from src.emission_by_country import EmissionByCountryPlot\n",
    "from src.emission_by_fuel import EmissionByFuelPlot\n",
    "from src.registrations_by_country import RegistrationsByCountryPlot\n",
    "\n",
    "from bokeh.layouts import gridplot, row, column\n",
    "\n",
    "import src.data_helper\n",
    "\n",
    "fuelTypePlot = FuelTypePlot(data)\n",
    "emissionByCountryPlot = EmissionByCountryPlot(data)\n",
    "emissionByFuelPlot = EmissionByFuelPlot(data)\n",
    "registrationsByCountryPlot = RegistrationsByCountryPlot(data)\n",
    "\n",
    "countries = ['DE', 'GB', 'FR', 'MT', 'CY', 'LV', 'NL', 'PL']\n",
    "tabs = []\n",
    "\n",
    "\n",
    "# Generate results for EU\n",
    "fuelTypePlot.process()\n",
    "emissionByCountryPlot.process()\n",
    "emissionByFuelPlot.process()\n",
    "registrationsByCountryPlot.process()\n",
    "\n",
    "tabs.append(Panel(child=column(\\\n",
    "                        row(fuelTypePlot.plot(), registrationsByCountryPlot.plot()),\\\n",
    "                        row(emissionByCountryPlot.plotAverage(), emissionByCountryPlot.plotTotal()),\\\n",
    "                        row(emissionByFuelPlot.plotAverage(), emissionByFuelPlot.plotTotal())), title = \"Europen Union\"))\n",
    "\n",
    "# Generate results for some countries\n",
    "for ct in countries:\n",
    "    fuelTypePlot.processByCountry(ct)\n",
    "    emissionByFuelPlot.processByCountry(ct)\n",
    "    tabs.append(Panel(child=column(row([fuelTypePlot.plot()]),\\\n",
    "                        row([emissionByFuelPlot.plotAverage(), emissionByFuelPlot.plotTotal()])),\\\n",
    "                      title = data_helper.country[ct]))\n",
    "\n",
    "    \n",
    "# Show charts\n",
    "show(Tabs(tabs = tabs))"
   ]
  },
  {
   "cell_type": "markdown",
   "metadata": {
    "collapsed": true
   },
   "source": [
    "## Results Analysis"
   ]
  },
  {
   "cell_type": "markdown",
   "metadata": {},
   "source": [
    "With the charts we can do some conclusions."
   ]
  },
  {
   "cell_type": "markdown",
   "metadata": {},
   "source": [
    "### About Fuel Types In Use"
   ]
  },
  {
   "cell_type": "markdown",
   "metadata": {},
   "source": [
    "In EU predominate Diesel and Petrol (Gasoline) with $97,23\\%$ of the new vehicles market. We also have a small participation of LPG ($1\\%$), Petrol-Electric hybrid ($0,66\\%$), Biomethane ($0,57\\%$) and Electric cars ($0,41\\%$). The other types are less significant (just $0,13\\%$)."
   ]
  },
  {
   "cell_type": "markdown",
   "metadata": {},
   "source": [
    "Since Diesel and Petrol are the most commons and have razordable rates of pollution, we found high rates of $CO_2$ emissions. Those emission rates could be improved with hybrid solutions, such as Diesel-Electric and Petrol-Electric. Diesel-Electric is $37\\%$ less polluting than Diesel and Petrol-Electric is $60\\%$ less polluting than Petrol."
   ]
  },
  {
   "cell_type": "markdown",
   "metadata": {},
   "source": [
    "Some known alternative fuels, such as Biodiesel and E85, Strangely have elevate rates of $CO_2$ emissions becoming, so, less interesting to replace Diesel and Petrol."
   ]
  },
  {
   "cell_type": "markdown",
   "metadata": {},
   "source": [
    "Netherlands has shown great results with $8,05\\%$ of Petrol-Electric vehicles and a redution in Diesel/Petrol pollution. Comparing Netherlands with Poland we found that even registering more cars than Poland, Netherlands is less polluting than Poland. So, it is possible to make Petrol/Diesel less polluting."
   ]
  },
  {
   "cell_type": "markdown",
   "metadata": {},
   "source": [
    "### About New Registrations"
   ]
  },
  {
   "cell_type": "markdown",
   "metadata": {},
   "source": [
    "The charts of *Total of new registrations in European Union* and *Total of CO2 emissions in European Union* have a identical shape showing that more cars you register, more pollutant you become. The only exception is Netherlands, as we said above. Since you cannot stop people buying vehicles, it is necessary to adopt alternative fuel type solutions."
   ]
  },
  {
   "cell_type": "markdown",
   "metadata": {},
   "source": [
    "### About Emissions By Country"
   ]
  },
  {
   "cell_type": "markdown",
   "metadata": {},
   "source": [
    "Some countries, such as Estonia, Latvia, Bulgaria and Lithuania have elevated rates of $CO_2$ emissions and, thus, should work on solutions for reducing that rates, even being small countries. Netherlands emerges as an example (of reducing pollution) to be followed."
   ]
  },
  {
   "cell_type": "markdown",
   "metadata": {},
   "source": [
    "## Conclusion"
   ]
  },
  {
   "cell_type": "markdown",
   "metadata": {},
   "source": [
    "Therefore, countries in EU must work on solutions for reducing $CO_2$ emissions, as done in Netherlands, and invest in hybrid solutions, such as Diesel-Electric and Petrol-Electric."
   ]
  },
  {
   "cell_type": "markdown",
   "metadata": {},
   "source": [
    "**Rubem Kalebe**"
   ]
  },
  {
   "cell_type": "code",
   "execution_count": null,
   "metadata": {
    "collapsed": true
   },
   "outputs": [],
   "source": []
  }
 ],
 "metadata": {
  "kernelspec": {
   "display_name": "Python 3",
   "language": "python",
   "name": "python3"
  },
  "language_info": {
   "codemirror_mode": {
    "name": "ipython",
    "version": 3
   },
   "file_extension": ".py",
   "mimetype": "text/x-python",
   "name": "python",
   "nbconvert_exporter": "python",
   "pygments_lexer": "ipython3",
   "version": "3.6.0"
  }
 },
 "nbformat": 4,
 "nbformat_minor": 2
}
